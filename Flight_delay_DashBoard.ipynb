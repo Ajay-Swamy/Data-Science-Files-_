{
 "cells": [
  {
   "cell_type": "code",
   "execution_count": 7,
   "id": "ef7d980d-332f-4f32-ac85-1c9c79e7b0f4",
   "metadata": {},
   "outputs": [],
   "source": [
    "# Import required libraries\n",
    "import pandas as pd\n",
    "import dash\n",
    "from dash import dcc\n",
    "from dash import html\n",
    "from dash.dependencies import Input, Output\n",
    "import plotly.express as px\n",
    "\n",
    "# Read the airline data into pandas dataframe\n",
    "airline_data =  pd.read_csv('https://cf-courses-data.s3.us.cloud-object-storage.appdomain.cloud/IBMDeveloperSkillsNetwork-DV0101EN-SkillsNetwork/Data%20Files/airline_data.csv', \n",
    "                            encoding = \"ISO-8859-1\",\n",
    "                            dtype={'Div1Airport': str, 'Div1TailNum': str, \n",
    "                                   'Div2Airport': str, 'Div2TailNum': str})\n"
   ]
  },
  {
   "cell_type": "code",
   "execution_count": 8,
   "id": "e7fb3918-8eec-412a-aaab-639066709889",
   "metadata": {},
   "outputs": [
    {
     "data": {
      "text/html": [
       "\n",
       "        <iframe\n",
       "            width=\"100%\"\n",
       "            height=\"650\"\n",
       "            src=\"http://127.0.0.1:8050/\"\n",
       "            frameborder=\"0\"\n",
       "            allowfullscreen\n",
       "            \n",
       "        ></iframe>\n",
       "        "
      ],
      "text/plain": [
       "<IPython.lib.display.IFrame at 0x20265d27380>"
      ]
     },
     "metadata": {},
     "output_type": "display_data"
    }
   ],
   "source": [
    "\n",
    "# Create a dash application\n",
    "app = dash.Dash(__name__)\n",
    "\n",
    "# Build dash app layout\n",
    "app.layout = html.Div(children=[ html.H1('Flight Delay Time Statistics', \n",
    "                                style={'textAlign': 'center', 'color': '#503D36',\n",
    "                                'font-size': 30}),\n",
    "                                html.Div([\"Input Year: \", dcc.Input(id='input-year', value='2010', \n",
    "                                type='number', style={'height':'35px', 'font-size': 30}),], \n",
    "                                style={'font-size': 30}),\n",
    "                                html.Br(),\n",
    "                                html.Br(), \n",
    "                                # Segment 1\n",
    "                                html.Div([\n",
    "                                        html.Div(dcc.Graph(id='carrier-plot')),\n",
    "                                        html.Div(dcc.Graph(id='weather-plot'))\n",
    "                                ], style={'display': 'flex'}),\n",
    "                                # Segment 2\n",
    "                                html.Div([\n",
    "                                        html.Div(dcc.Graph(id='nas-plot')),\n",
    "                                        html.Div(dcc.Graph(id='security-plot'))\n",
    "                                ], style={'display': 'flex'}),\n",
    "                                # Segment 3\n",
    "                                html.Div(dcc.Graph(id='late-plot'), style={'width':'65%'})\n",
    "                                ])\n",
    "\n",
    "def compute_info(airline_data, entered_year):\n",
    "    # Select data\n",
    "    df =  airline_data[airline_data['Year']==int(entered_year)]\n",
    "    # Compute delay averages\n",
    "    avg_car = df.groupby(['Month','Reporting_Airline'])['CarrierDelay'].mean().reset_index()\n",
    "    avg_weather = df.groupby(['Month','Reporting_Airline'])['WeatherDelay'].mean().reset_index()\n",
    "    avg_NAS = df.groupby(['Month','Reporting_Airline'])['NASDelay'].mean().reset_index()\n",
    "    avg_sec = df.groupby(['Month','Reporting_Airline'])['SecurityDelay'].mean().reset_index()\n",
    "    avg_late = df.groupby(['Month','Reporting_Airline'])['LateAircraftDelay'].mean().reset_index()\n",
    "    return avg_car, avg_weather, avg_NAS, avg_sec, avg_late\n",
    "\n",
    "\n",
    "# Callback decorator\n",
    "@app.callback( [\n",
    "               Output(component_id='carrier-plot', component_property='figure'),\n",
    "               Output(component_id='weather-plot', component_property='figure'),\n",
    "               Output(component_id='nas-plot', component_property='figure'),\n",
    "               Output(component_id='security-plot', component_property='figure'),\n",
    "               Output(component_id='late-plot', component_property='figure')\n",
    "               ],\n",
    "               Input(component_id='input-year', component_property='value'))\n",
    "# Computation to callback function and return graph\n",
    "def get_graph(entered_year):\n",
    "    \n",
    "    # Compute required information for creating graph from the data\n",
    "    avg_car, avg_weather, avg_NAS, avg_sec, avg_late = compute_info(airline_data, entered_year)\n",
    "            \n",
    "    # Line plot for carrier delay\n",
    "    carrier_fig = px.line(avg_car, x='Month', y='CarrierDelay', color='Reporting_Airline', title='Average carrrier delay time (minutes) by airline')\n",
    "    # Line plot for weather delay\n",
    "    weather_fig = px.line(avg_weather, x='Month', y='WeatherDelay', color='Reporting_Airline', title='Average weather delay time (minutes) by airline')\n",
    "    # Line plot for nas delay\n",
    "    nas_fig = px.line(avg_NAS, x='Month', y='NASDelay', color='Reporting_Airline', title='Average NAS delay time (minutes) by airline')\n",
    "    # Line plot for security delay\n",
    "    sec_fig = px.line(avg_sec, x='Month', y='SecurityDelay', color='Reporting_Airline', title='Average security delay time (minutes) by airline')\n",
    "    # Line plot for late aircraft delay\n",
    "    late_fig = px.line(avg_late, x='Month', y='LateAircraftDelay', color='Reporting_Airline', title='Average late aircraft delay time (minutes) by airline')\n",
    "            \n",
    "    return[carrier_fig, weather_fig, nas_fig, sec_fig, late_fig]\n",
    "\n",
    "# Run the app\n",
    "if __name__ == '__main__':\n",
    "    app.run()"
   ]
  },
  {
   "cell_type": "code",
   "execution_count": null,
   "id": "9a3dadbd-6672-44b6-94e9-4fd8cbfc55d0",
   "metadata": {},
   "outputs": [],
   "source": []
  }
 ],
 "metadata": {
  "kernelspec": {
   "display_name": "Python [conda env:base] *",
   "language": "python",
   "name": "conda-base-py"
  },
  "language_info": {
   "codemirror_mode": {
    "name": "ipython",
    "version": 3
   },
   "file_extension": ".py",
   "mimetype": "text/x-python",
   "name": "python",
   "nbconvert_exporter": "python",
   "pygments_lexer": "ipython3",
   "version": "3.12.7"
  }
 },
 "nbformat": 4,
 "nbformat_minor": 5
}
