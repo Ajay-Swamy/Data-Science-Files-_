{
 "cells": [
  {
   "cell_type": "code",
   "execution_count": 1,
   "id": "c34c2ec5-796a-4656-8b9a-17a446592a94",
   "metadata": {},
   "outputs": [],
   "source": [
    "import dash\n",
    "import more_itertools\n",
    "from dash import dcc\n",
    "from dash import html\n",
    "from dash.dependencies import Input, Output\n",
    "import pandas as pd\n",
    "import plotly.graph_objs as go\n",
    "import plotly.express as px\n",
    "import matplotlib.pyplot as plt\n",
    "# Load the data using pandas\n",
    "df = pd.read_csv('https://cf-courses-data.s3.us.cloud-object-storage.appdomain.cloud/IBMDeveloperSkillsNetwork-DV0101EN-SkillsNetwork/Data%20Files/historical_automobile_sales.csv')\n"
   ]
  },
  {
   "cell_type": "code",
   "execution_count": 3,
   "id": "be5ba1f7-469b-4185-9bb9-a9724a9e6e7d",
   "metadata": {},
   "outputs": [
    {
     "data": {
      "text/html": [
       "\n",
       "        <iframe\n",
       "            width=\"100%\"\n",
       "            height=\"650\"\n",
       "            src=\"http://127.0.0.1:1236/\"\n",
       "            frameborder=\"0\"\n",
       "            allowfullscreen\n",
       "            \n",
       "        ></iframe>\n",
       "        "
      ],
      "text/plain": [
       "<IPython.lib.display.IFrame at 0x1cc6837f170>"
      ]
     },
     "metadata": {},
     "output_type": "display_data"
    }
   ],
   "source": [
    "app=dash.Dash(__name__)\n",
    "\n",
    "df = df[(df['Year'] >= 1980) & (df['Year'] <= 2013)]\n",
    "app.layout=html.Div([\n",
    "    html.H1(\"Automobile Sales Statistics Dashboard\",style={'textAlign':'center','color':'#503D3','fontsize':24}),\n",
    "    html.Div([\n",
    "        html.Div([\n",
    "            html.Label('Select Report Type'),\n",
    "            dcc.Dropdown(\n",
    "                id='dropdown-statistics',\n",
    "                options=[ {'label': 'Yearly Statistics', 'value': 'Yearly Statistics'},{'label': 'Recession Period Statistics', 'value': 'Recession Period Statistics'}],\n",
    "                value='Select Statistics',\n",
    "                placeholder='Select a report type'\n",
    "            )\n",
    "        ],style={ 'width': '48%','display': 'inline-block'}),\n",
    "       \n",
    "\n",
    "    html.Div([\n",
    "        html.Label('Select Year for Yearly Statistics'),\n",
    "        dcc.Dropdown(\n",
    "            id='select-year',\n",
    "            options=[{'label': str(year), 'value': year} for year in sorted(df['Year'].unique())],\n",
    "            value='Select-Year',\n",
    "            placeholder='Select-Year'\n",
    "        )\n",
    "    ],style={'width': '48%', 'display': 'inline-block', 'float': 'right'})\n",
    "    ]),\n",
    "    html.Div([\n",
    "            html.Div(id='output-container', className='chart-list'),])\n",
    "\n",
    "    ])\n",
    "\n",
    "@app.callback(Output(component_id='select-year', component_property='disabled'),\n",
    "              Input(component_id='dropdown-statistics', component_property='value')\n",
    "             )\n",
    "\n",
    "\n",
    "def update_dropdown(report_type):\n",
    "    return report_type=='Recession Period Statistics'\n",
    "\n",
    "@app.callback(Output(component_id='output-container', component_property='children'),\n",
    "             [Input(component_id='dropdown-statistics', component_property='value'),\n",
    "             Input(component_id='select-year', component_property='value')]\n",
    "             )\n",
    "def update_ouput_container(report_type,input_year):\n",
    "    if report_type=='Recession Period Statistics':\n",
    "        rec_data=df[df['Recession']==1]\n",
    "        #figure 1\n",
    "        rec_avg=rec_data.groupby('Year')['Automobile_Sales'].mean().reset_index()\n",
    "        fig1=dcc.Graph(figure=px.line(rec_avg,x='Year',y='Automobile_Sales',title='Sales During Recession Periods'))\n",
    "\n",
    "        #figure 2\n",
    "        rec_vehicle=rec_data.groupby('Vehicle_Type')['Automobile_Sales'].mean().reset_index()\n",
    "        fig2=dcc.Graph(figure=px.bar(rec_vehicle,x='Vehicle_Type',y='Automobile_Sales',title='Average Sales by Vehicle Type (Recessions)'))\n",
    "\n",
    "        #figure 3\n",
    "        rec_pie=rec_data.groupby('Vehicle_Type')['Advertising_Expenditure'].sum().reset_index()\n",
    "        fig3=dcc.Graph(figure=px.pie(rec_pie,values='Advertising_Expenditure',names='Vehicle_Type',title='Advertising Expenditure During Recessions'))\n",
    "\n",
    "        #figure 4\n",
    "        unemp_data=rec_data.groupby('Vehicle_Type').agg({\n",
    "            'unemployment_rate': 'mean','Automobile_Sales': 'mean'\n",
    "        }).reset_index()\n",
    "        fig4=dcc.Graph(figure=px.bar(unemp_data,x='Vehicle_Type',y='Automobile_Sales',color='unemployment_rate',color_continuous_scale='RdYlGn_r',labels={'unemployment_rate': 'Unemployment Rate (%)','Automobile_Sales': 'Average Sales'},title='Effect of Unemployment Rate on Vehicle Sales During Recessions'))\n",
    "\n",
    "        return [ html.Div([fig1, fig2], style={'display': 'flex'}),html.Div([fig3, fig4], style={'display': 'flex'}) ]\n",
    "    else:\n",
    "        y_data=df[df['Year']==input_year]\n",
    "        #fig1\n",
    "        lin_data=df.groupby('Year')['Automobile_Sales'].mean().reset_index()\n",
    "        fig5=dcc.Graph(figure=px.line(lin_data,x='Year',y='Automobile_Sales',title='Yearly Average Automobile Sales Trend'))\n",
    "        #fig 2\n",
    "        data_month=y_data.groupby('Month')['Automobile_Sales'].sum().reset_index()\n",
    "        fig6=dcc.Graph(figure=px.line(data_month,x='Month',y='Automobile_Sales',title=f'Monthly Automobile Sales in {input_year}'))\n",
    "        #fig3\n",
    "        data_v=y_data.groupby('Vehicle_Type')['Automobile_Sales'].mean().reset_index()\n",
    "        fig7=dcc.Graph(figure=px.bar(data_v,x='Vehicle_Type',y='Automobile_Sales',title=f'Average Sales by Vehicle Type in {input_year}'))\n",
    "\n",
    "        #fig 4\n",
    "        data_p=y_data.groupby('Vehicle_Type')['Advertising_Expenditure'].sum().reset_index()\n",
    "        fig8=dcc.Graph(figure=px.pie(data_p,values='Advertising_Expenditure',names='Vehicle_Type',title=f'Advertising Expenditure in {input_year}'))\n",
    "        return [ html.Div([fig5,fig6],style={'display':'flex'}),html.Div([fig7,fig8],style={'display':'flex'})]\n",
    "\n",
    "if __name__=='__main__':\n",
    "    app.run(debug=True,port=1236)\n",
    "        \n",
    "    "
   ]
  },
  {
   "cell_type": "code",
   "execution_count": null,
   "id": "7c0019b3-8e79-4f5b-91a6-4c57b514a2fe",
   "metadata": {},
   "outputs": [],
   "source": []
  },
  {
   "cell_type": "code",
   "execution_count": null,
   "id": "5a37089b-7d51-4bed-a51c-c25941e444eb",
   "metadata": {},
   "outputs": [],
   "source": []
  }
 ],
 "metadata": {
  "kernelspec": {
   "display_name": "Python [conda env:base] *",
   "language": "python",
   "name": "conda-base-py"
  },
  "language_info": {
   "codemirror_mode": {
    "name": "ipython",
    "version": 3
   },
   "file_extension": ".py",
   "mimetype": "text/x-python",
   "name": "python",
   "nbconvert_exporter": "python",
   "pygments_lexer": "ipython3",
   "version": "3.12.7"
  }
 },
 "nbformat": 4,
 "nbformat_minor": 5
}
